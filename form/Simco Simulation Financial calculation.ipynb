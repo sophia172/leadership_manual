{
 "cells": [
  {
   "cell_type": "markdown",
   "id": "cd509f9d",
   "metadata": {},
   "source": [
    "# profit calculation"
   ]
  },
  {
   "cell_type": "markdown",
   "id": "d8923e31",
   "metadata": {},
   "source": [
    "## Parameters"
   ]
  },
  {
   "cell_type": "code",
   "execution_count": 1,
   "id": "c0291ca2",
   "metadata": {},
   "outputs": [],
   "source": [
    "parameters = {\n",
    "                'number_Standard_Line' : 1 ,\n",
    "                'number_Delux_Line' : 1 ,\n",
    "                'add_std_line' : 0 ,  # add no more than 2 per quater\n",
    "                'add_dlx_line' : 0 ,  # add no more than 2 per quater\n",
    "                'night_shift' : 0  ,  # 1 for on and 0 for off\n",
    "                'order_std' : 4000 ,  # in a value of 100\n",
    "                'order_dlx' : 2000,\n",
    "                'number_quater' : 1\n",
    "}"
   ]
  },
  {
   "cell_type": "markdown",
   "id": "9f7abdbb",
   "metadata": {},
   "source": [
    "## condition\n"
   ]
  },
  {
   "cell_type": "code",
   "execution_count": 12,
   "id": "8e616839",
   "metadata": {},
   "outputs": [
    {
     "ename": "SyntaxError",
     "evalue": "cannot assign to function call (Temp/ipykernel_24524/4280248625.py, line 4)",
     "output_type": "error",
     "traceback": [
      "\u001b[1;36m  File \u001b[1;32m\"C:\\Users\\yl720\\AppData\\Local\\Temp/ipykernel_24524/4280248625.py\"\u001b[1;36m, line \u001b[1;32m4\u001b[0m\n\u001b[1;33m    eval(\"%s\"%key) = kwags['%s'%key]\u001b[0m\n\u001b[1;37m    ^\u001b[0m\n\u001b[1;31mSyntaxError\u001b[0m\u001b[1;31m:\u001b[0m cannot assign to function call\n"
     ]
    }
   ],
   "source": [
    "def quater_calculation(kwags):\n",
    "\n",
    "    \n",
    "    year = number_quater//4 + 1\n",
    "    cost_new_line = add_dlx_line * 1500000 + add_std_line * 1000000\n",
    "    new_std_unit = 4000 * (1 + night_shift) * number_Standard_Line + 2000 * (1 + night_shift) * add_std_line \n",
    "    new_dlx_unit = 2000 * (1 + night_shift) * number_Standard_Line + 1000 * (1 + night_shift) * add_dlx_line\n",
    "    \n",
    "    \n",
    "    day_staff = 8 * (number_Standard_Line + add_std_line) + 10 * (number_Delux_Line + add_dlx_line)\n",
    "    night_staff = day_staff\n",
    "\n",
    "    cost_order = 140 * order_std + 300 * order_dlx\n",
    "\n",
    "    cost_electricity = 4000 * (number_Standard_Line + add_std_line) + 6000 * (number_Delux_Line + add_dlx_line)\n",
    "\n",
    "    fixed_cost = 64000 + 10000 * (number_quater - 1)\n",
    "\n",
    "    # is calculated in every 2 quaters but not included until the end of the year\n",
    "#     depreciation_per_line = "
   ]
  },
  {
   "cell_type": "code",
   "execution_count": 8,
   "id": "d0888bd1",
   "metadata": {},
   "outputs": [
    {
     "ename": "SyntaxError",
     "evalue": "invalid syntax (<string>, line 1)",
     "output_type": "error",
     "traceback": [
      "Traceback \u001b[1;36m(most recent call last)\u001b[0m:\n",
      "  File \u001b[0;32m\"C:\\Users\\yl720\\Google Drive\\ML\\MLvenv\\lib\\site-packages\\IPython\\core\\interactiveshell.py\"\u001b[0m, line \u001b[0;32m3441\u001b[0m, in \u001b[0;35mrun_code\u001b[0m\n    exec(code_obj, self.user_global_ns, self.user_ns)\n",
      "  File \u001b[0;32m\"C:\\Users\\yl720\\AppData\\Local\\Temp/ipykernel_24524/2776128844.py\"\u001b[0m, line \u001b[0;32m1\u001b[0m, in \u001b[0;35m<module>\u001b[0m\n    quater_calculation(parameters)\n",
      "\u001b[1;36m  File \u001b[1;32m\"C:\\Users\\yl720\\AppData\\Local\\Temp/ipykernel_24524/2133526175.py\"\u001b[1;36m, line \u001b[1;32m4\u001b[1;36m, in \u001b[1;35mquater_calculation\u001b[1;36m\u001b[0m\n\u001b[1;33m    eval(\"%s=kwags['%s']\"%(key,key))\u001b[0m\n",
      "\u001b[1;36m  File \u001b[1;32m\"<string>\"\u001b[1;36m, line \u001b[1;32m1\u001b[0m\n\u001b[1;33m    number_Standard_Line=kwags['number_Standard_Line']\u001b[0m\n\u001b[1;37m                        ^\u001b[0m\n\u001b[1;31mSyntaxError\u001b[0m\u001b[1;31m:\u001b[0m invalid syntax\n"
     ]
    }
   ],
   "source": [
    "quater_calculation(parameters)"
   ]
  },
  {
   "cell_type": "code",
   "execution_count": 90,
   "id": "b4fc2008",
   "metadata": {},
   "outputs": [],
   "source": [
    "production_line_dlx = 1\n",
    "production_line_std = 1\n",
    "\n",
    "staff_salary = 8\n",
    "\n",
    "dlx_price = 520\n",
    "std_price = 325\n",
    "\n",
    "sale_rep = 2\n",
    "\n",
    "r_d = 0\n",
    "market_research = 0\n",
    "promotion_dlx = 0\n",
    "promotion_std = 0\n",
    "line_mantainance =0\n",
    "\n",
    "direct_dlx_unit = 290\n",
    "direct_std_unit = 130\n",
    "\n",
    "# indirect production line staff cost\n",
    "staff_salary = (production_line_std * 8 + production_line_dlx * 10) * 40 * 12 * staff_salary\n",
    "\n",
    "# indirect sale rep cost\n",
    "sale_salary = sale_rep * 3500 \n",
    "\n",
    "# direct sale commision\n",
    "sale_dlx_commision_unit = dlx_price * 0.035\n",
    "sale_std_commision_unit = std_price * 0.035\n",
    "\n"
   ]
  },
  {
   "cell_type": "code",
   "execution_count": 91,
   "id": "84ac93f5",
   "metadata": {},
   "outputs": [],
   "source": [
    "import numpy as np\n",
    "num_sale_dlx = np.linspace(0,4000,4001)\n",
    "num_sale_std = np.linspace(0,8000,8001)\n",
    "direct_dlx = (direct_dlx_unit + sale_dlx_commision_unit) * num_sale_dlx \n",
    "direct_std = (direct_std_unit + sale_std_commision_unit) * num_sale_std\n",
    "\n",
    "indirect_dlx = staff_salary /18 * 10 * 2.5 + sale_salary/2 + r_d/2 + market_research/2 + promotion_dlx + line_mantainance * production_line_dlx\n",
    "indirect_std = staff_salary /18 * 8 * 2.5 + sale_salary/2 + r_d/2 + market_research/2 + promotion_std + line_mantainance * production_line_std\n",
    "\n",
    "sale_dlx = num_sale_dlx * dlx_price\n",
    "sale_std = num_sale_std * std_price\n",
    "\n",
    "\n"
   ]
  },
  {
   "cell_type": "code",
   "execution_count": 92,
   "id": "2ebd6c6f",
   "metadata": {},
   "outputs": [
    {
     "data": {
      "text/plain": [
       "Text(0.5, 1.0, 'delux')"
      ]
     },
     "execution_count": 92,
     "metadata": {},
     "output_type": "execute_result"
    },
    {
     "data": {
      "image/png": "[encoded data removed]",
      "text/plain": [
       "<Figure size 432x288 with 1 Axes>"
      ]
     },
     "metadata": {
      "needs_background": "light"
     },
     "output_type": "display_data"
    }
   ],
   "source": [
    "from matplotlib import pyplot as plt\n",
    "plt.figure()\n",
    "plt.plot(num_sale_dlx, len(num_sale_dlx) * [indirect_dlx], label='indirect')\n",
    "plt.plot(num_sale_dlx, np.array(len(num_sale_dlx) * [indirect_dlx]) + direct_dlx, label = 'direct')\n",
    "plt.plot(num_sale_dlx, sale_dlx, label='sale')\n",
    "plt.legend()\n",
    "plt.title('delux')"
   ]
  },
  {
   "cell_type": "code",
   "execution_count": 89,
   "id": "f808c1b0",
   "metadata": {},
   "outputs": [
    {
     "data": {
      "text/plain": [
       "Text(0.5, 1.0, 'standard')"
      ]
     },
     "execution_count": 89,
     "metadata": {},
     "output_type": "execute_result"
    },
    {
     "data": {
      "image/png": "[encoded data removed]",
      "text/plain": [
       "<Figure size 432x288 with 1 Axes>"
      ]
     },
     "metadata": {
      "needs_background": "light"
     },
     "output_type": "display_data"
    }
   ],
   "source": [
    "\n",
    "plt.figure()\n",
    "plt.plot(num_sale_std, len(num_sale_std) * [indirect_std], label='indirect')\n",
    "plt.plot(num_sale_std, np.array(len(num_sale_std) * [indirect_std]) + direct_std, label = 'direct')\n",
    "plt.plot(num_sale_std, sale_std, label='sale')\n",
    "plt.legend()\n",
    "plt.title('standard')"
   ]
  },
  {
   "cell_type": "code",
   "execution_count": null,
   "id": "326bfbe6",
   "metadata": {},
   "outputs": [],
   "source": []
  }
 ],
 "metadata": {
  "kernelspec": {
   "display_name": "MLvenv",
   "language": "python",
   "name": "mlvenv"
  },
  "language_info": {
   "codemirror_mode": {
    "name": "ipython",
    "version": 3
   },
   "file_extension": ".py",
   "mimetype": "text/x-python",
   "name": "python",
   "nbconvert_exporter": "python",
   "pygments_lexer": "ipython3",
   "version": "3.8.10"
  }
 },
 "nbformat": 4,
 "nbformat_minor": 5
}
